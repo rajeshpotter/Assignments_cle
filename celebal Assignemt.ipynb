{
 "cells": [
  {
   "cell_type": "markdown",
   "id": "87aecc3e",
   "metadata": {},
   "source": [
    "# DAY 1"
   ]
  },
  {
   "cell_type": "markdown",
   "id": "cfd925b8",
   "metadata": {},
   "source": [
    "### Exercise 1: Given a string of odd length greater than 7, return a new string made of the middle three characters of a given String\n",
    "Given:\n",
    "str1 = \"JhonDipPeta\"\n",
    "str2 = \"JaSonAy\"\n",
    "Output:\n",
    "Dip\n",
    "Son"
   ]
  },
  {
   "cell_type": "code",
   "execution_count": 28,
   "id": "eb027c1a",
   "metadata": {},
   "outputs": [
    {
     "data": {
      "text/plain": [
       "'Son'"
      ]
     },
     "execution_count": 28,
     "metadata": {},
     "output_type": "execute_result"
    }
   ],
   "source": [
    "def Mid_three_word(str1):\n",
    "    mid=len(str1)//2\n",
    "    new_str=str1[mid-1:mid+2]\n",
    "    \n",
    "    return new_str\n",
    "\n",
    "Mid_three_word(str2)"
   ]
  },
  {
   "cell_type": "markdown",
   "id": "b8361ad4",
   "metadata": {},
   "source": [
    "### Exercise 2: Given two strings, s1 and s2, create a new string by appending s2 in the middle of s1\n",
    "Given:\n",
    "s1 = \"Ault\"\n",
    "s2 = \"Kelly\"\n",
    "Expected Output:\n",
    "AuKellylt"
   ]
  },
  {
   "cell_type": "code",
   "execution_count": 30,
   "id": "1db78530",
   "metadata": {},
   "outputs": [
    {
     "data": {
      "text/plain": [
       "'AuKellylt'"
      ]
     },
     "execution_count": 30,
     "metadata": {},
     "output_type": "execute_result"
    }
   ],
   "source": [
    "def Appending_new_str_mid_of_s1(s1,s2):\n",
    "    mid=len(s1)//2\n",
    "    new_str=s1[:mid]+s2+s1[mid:]\n",
    "    return new_str\n",
    "Appending_new_str_mid_of_s1(\"Ault\",\"Kelly\")"
   ]
  },
  {
   "cell_type": "markdown",
   "id": "d317f3e1",
   "metadata": {},
   "source": [
    "### Exercise 3: Arrange string characters such that lowercase letters should come first\n",
    "Given:\n",
    "str1 = PyNaTive\n",
    "Output:\n",
    "yaivePNT"
   ]
  },
  {
   "cell_type": "code",
   "execution_count": 32,
   "id": "ffae3688",
   "metadata": {},
   "outputs": [
    {
     "data": {
      "text/plain": [
       "'yaivePNT'"
      ]
     },
     "execution_count": 32,
     "metadata": {},
     "output_type": "execute_result"
    }
   ],
   "source": [
    "def Arrange_Str_LowerCase_letr(str1):\n",
    "    new_str_low=\"\"\n",
    "    new_str_upp=\"\"\n",
    "    for i in range(len(str1)):\n",
    "        if str1[i].islower():\n",
    "            new_str_low+=str1[i]\n",
    "        else:\n",
    "            new_str_upp+=str1[i]\n",
    "    return new_str_low+new_str_upp\n",
    "Arrange_Str_LowerCase_letr(\"PyNaTive\")"
   ]
  },
  {
   "cell_type": "markdown",
   "id": "7adeb6a5",
   "metadata": {},
   "source": [
    "### Exercise 4: Find the last position of a substring “Emma” in a given string\n",
    "Given: \n",
    "str1 = \"Emma is a data scientist who knows Python. Emma works at google.\"\n",
    "Output:\n",
    "Last occurrence of Emma starts at index 43"
   ]
  },
  {
   "cell_type": "code",
   "execution_count": 37,
   "id": "9964f8cf",
   "metadata": {},
   "outputs": [
    {
     "data": {
      "text/plain": [
       "43"
      ]
     },
     "execution_count": 37,
     "metadata": {},
     "output_type": "execute_result"
    }
   ],
   "source": [
    "def Find_Position_Sub(str1,word):\n",
    "    \n",
    "    return str1.rfind(word)\n",
    "Find_Position_Sub(\"Emma is a data scientist who knows Python. Emma works at google.\",\"Emma\")\n",
    "    "
   ]
  },
  {
   "cell_type": "markdown",
   "id": "64ff26e0",
   "metadata": {},
   "source": [
    "# DAY 2"
   ]
  },
  {
   "cell_type": "markdown",
   "id": "dca16343",
   "metadata": {},
   "source": [
    "### Exercise 1: Print First 10 natural numbers using while loop"
   ]
  },
  {
   "cell_type": "code",
   "execution_count": 39,
   "id": "bfbd5192",
   "metadata": {},
   "outputs": [
    {
     "name": "stdout",
     "output_type": "stream",
     "text": [
      "1 2 3 4 5 6 7 8 9 10 "
     ]
    }
   ],
   "source": [
    "i=1\n",
    "while i<=10:\n",
    "    print(i,sep=\" \",end=\" \")\n",
    "    i+=1\n",
    "    "
   ]
  },
  {
   "cell_type": "markdown",
   "id": "cf931c9c",
   "metadata": {},
   "source": [
    "### \n",
    "### 1 \n",
    "### 1 2 \n",
    "### 1 2 3 \n",
    "### 1 2 3 4 \n",
    "### 1 2 3 4 5"
   ]
  },
  {
   "cell_type": "code",
   "execution_count": 42,
   "id": "217f321d",
   "metadata": {},
   "outputs": [
    {
     "name": "stdout",
     "output_type": "stream",
     "text": [
      "1 \n",
      "1 2 \n",
      "1 2 3 \n",
      "1 2 3 4 \n"
     ]
    }
   ],
   "source": [
    "def pattern(row):\n",
    "    for i in range(1,row):\n",
    "        for j in range(1,i+1):\n",
    "            print(j,sep=\"\",end=\" \")\n",
    "        print()\n",
    "pattern(5)"
   ]
  },
  {
   "cell_type": "markdown",
   "id": "1fb0ec97",
   "metadata": {},
   "source": [
    "### Exercise 3: Calculate the sum of all numbers from 1 to a given number\n"
   ]
  },
  {
   "cell_type": "code",
   "execution_count": 48,
   "id": "fb19dfad",
   "metadata": {},
   "outputs": [
    {
     "data": {
      "text/plain": [
       "55"
      ]
     },
     "execution_count": 48,
     "metadata": {},
     "output_type": "execute_result"
    }
   ],
   "source": [
    "def Sum(num):\n",
    "    sum=0\n",
    "    for i in range(num+1):\n",
    "        sum+=i\n",
    "    return sum\n",
    "Sum(10)"
   ]
  },
  {
   "cell_type": "markdown",
   "id": "918e4f33",
   "metadata": {},
   "source": [
    "### Exercise 4: Write a program to print multiplication table of a given number"
   ]
  },
  {
   "cell_type": "code",
   "execution_count": 58,
   "id": "e489f5f2",
   "metadata": {},
   "outputs": [
    {
     "name": "stdout",
     "output_type": "stream",
     "text": [
      "1  *  4 = 4\n",
      "2  *  4 = 8\n",
      "3  *  4 = 12\n",
      "4  *  4 = 16\n",
      "5  *  4 = 20\n",
      "6  *  4 = 24\n",
      "7  *  4 = 28\n",
      "8  *  4 = 32\n",
      "9  *  4 = 36\n",
      "10 *  4 = 40\n"
     ]
    }
   ],
   "source": [
    "def Multiplication_table(num):\n",
    "    for i in range(1,10+1):\n",
    "        multy=i*num\n",
    "        if i==10:\n",
    "            print(f\"{i} *  {num} = {multy}\")\n",
    "        else:\n",
    "            print(f\"{i}  *  {num} = {multy}\")\n",
    "Multiplication_table(4)"
   ]
  },
  {
   "cell_type": "markdown",
   "id": "dc0cd3ad",
   "metadata": {},
   "source": [
    "### Exercise 5: Display numbers from a list using loop"
   ]
  },
  {
   "cell_type": "code",
   "execution_count": 59,
   "id": "6ebb733f",
   "metadata": {},
   "outputs": [
    {
     "name": "stdout",
     "output_type": "stream",
     "text": [
      "1\n",
      "2\n",
      "3\n",
      "4\n",
      "5\n",
      "6\n",
      "7\n"
     ]
    }
   ],
   "source": [
    "list1=[1,2,3,4,5,6,7]\n",
    "for i in list1:\n",
    "    print(i)"
   ]
  },
  {
   "cell_type": "markdown",
   "id": "fc573c3f",
   "metadata": {},
   "source": [
    "### Exercise 6: Count the total number of digits in a number"
   ]
  },
  {
   "cell_type": "code",
   "execution_count": 66,
   "id": "28f8d914",
   "metadata": {},
   "outputs": [
    {
     "data": {
      "text/plain": [
       "3"
      ]
     },
     "execution_count": 66,
     "metadata": {},
     "output_type": "execute_result"
    }
   ],
   "source": [
    "def count_digit(num):\n",
    "    count=0\n",
    "    while num!=0:\n",
    "        count+=1\n",
    "        num=num//10\n",
    "    return count\n",
    "num=100\n",
    "count_digit(num)"
   ]
  },
  {
   "cell_type": "code",
   "execution_count": null,
   "id": "3c391cfe",
   "metadata": {},
   "outputs": [],
   "source": []
  },
  {
   "cell_type": "code",
   "execution_count": null,
   "id": "fb637c24",
   "metadata": {},
   "outputs": [],
   "source": []
  },
  {
   "cell_type": "markdown",
   "id": "d6dd3e63",
   "metadata": {},
   "source": [
    "### 5 4 3 2 1 \n",
    "### 4 3 2 1 \n",
    "#### 3 2 1 \n",
    "#### 2 1 \n",
    "#### 1"
   ]
  },
  {
   "cell_type": "code",
   "execution_count": 79,
   "id": "73f5f895",
   "metadata": {},
   "outputs": [
    {
     "name": "stdout",
     "output_type": "stream",
     "text": [
      "Enter Row Value:8\n",
      "8 7 6 5 4 3 2 1 \n",
      "7 6 5 4 3 2 1 \n",
      "6 5 4 3 2 1 \n",
      "5 4 3 2 1 \n",
      "4 3 2 1 \n",
      "3 2 1 \n",
      "2 1 \n",
      "1 \n"
     ]
    }
   ],
   "source": [
    "row=int(input(\"Enter Row Value:\"))\n",
    "for i in range(0,row):\n",
    "    value=row-i\n",
    "    for j in range(0,row-i):\n",
    "        print(value,end=\" \")\n",
    "        value-=1\n",
    "    print()"
   ]
  },
  {
   "cell_type": "markdown",
   "id": "729b4a78",
   "metadata": {},
   "source": [
    "### Exercise 8: Print list in reverse order using a loop"
   ]
  },
  {
   "cell_type": "code",
   "execution_count": 82,
   "id": "0596ebbf",
   "metadata": {},
   "outputs": [
    {
     "name": "stdout",
     "output_type": "stream",
     "text": [
      "9 8 7 6 5 4 3 2 1 "
     ]
    }
   ],
   "source": [
    "list1=[1,2,3,4,5,6,7,8,9]\n",
    "for i in range(len(list1)-1,-1,-1):\n",
    "    print(list1[i],end=\" \")"
   ]
  },
  {
   "cell_type": "markdown",
   "id": "28eafa07",
   "metadata": {},
   "source": [
    "### Exercise 9: Display numbers from -10 to -1 using for loop"
   ]
  },
  {
   "cell_type": "code",
   "execution_count": 89,
   "id": "f694ef5e",
   "metadata": {},
   "outputs": [
    {
     "name": "stdout",
     "output_type": "stream",
     "text": [
      "-10 -9 -8 -7 -6 -5 -4 -3 -2 -1 "
     ]
    }
   ],
   "source": [
    "for i in range(-10,0):\n",
    "    print(i,end=\" \")"
   ]
  },
  {
   "cell_type": "markdown",
   "id": "ab5d2a0f",
   "metadata": {},
   "source": [
    "### Exercise 10: Use else block to display a message “Done” after successful execution of for loop"
   ]
  },
  {
   "cell_type": "code",
   "execution_count": 124,
   "id": "dc32b2d5",
   "metadata": {},
   "outputs": [
    {
     "name": "stdout",
     "output_type": "stream",
     "text": [
      "Done\n"
     ]
    },
    {
     "data": {
      "text/plain": [
       "451"
      ]
     },
     "execution_count": 124,
     "metadata": {},
     "output_type": "execute_result"
    }
   ],
   "source": [
    "def reverse_digit(num):\n",
    "    rev=0\n",
    "    while num!=0:\n",
    "        rem=num%10\n",
    "        rev=rev*10+rem\n",
    "        num=num//10\n",
    "    else:\n",
    "        print(\"Done\")\n",
    "    return rev\n",
    "reverse_digit(154)"
   ]
  },
  {
   "cell_type": "markdown",
   "id": "4e7c7ab4",
   "metadata": {},
   "source": [
    "### Exercise 11: Write a program to display all prime numbers within a range"
   ]
  },
  {
   "cell_type": "code",
   "execution_count": 112,
   "id": "026efa8a",
   "metadata": {},
   "outputs": [
    {
     "name": "stdout",
     "output_type": "stream",
     "text": [
      "1 2 3 5 7 11 13 17 19 23 29 31 37 41 43 47 53 59 61 67 71 73 79 83 89 97 101 103 107 109 113 127 131 137 139 149 151 157 163 167 173 179 181 191 193 197 199 211 223 227 229 233 239 241 251 257 263 269 271 277 281 283 293 307 311 313 317 331 337 347 349 353 359 367 373 379 383 389 397 401 409 419 421 431 433 439 443 449 457 461 463 467 479 487 491 499 503 509 521 523 541 547 557 563 569 571 577 587 593 599 601 607 613 617 619 631 641 643 647 653 659 661 673 677 683 691 701 709 719 727 733 739 743 751 757 761 769 773 787 797 809 811 821 823 827 829 839 853 857 859 863 877 881 883 887 907 911 919 929 937 941 947 953 967 971 977 983 991 997 "
     ]
    }
   ],
   "source": [
    "import math \n",
    "def prime_num(rang):\n",
    "    for i in range(1,rang+1):\n",
    "        j=2\n",
    "        flag=0\n",
    "        while j<=int(math.sqrt(i)):\n",
    "            if i%j==0:\n",
    "                flag=1\n",
    "                break\n",
    "            j+=1\n",
    "        if flag==0:\n",
    "            print(i,end=\" \")\n",
    "prime_num(1000)\n",
    "            "
   ]
  },
  {
   "cell_type": "markdown",
   "id": "063f4c35",
   "metadata": {},
   "source": [
    "### Exercise 12: Display Fibonacci series up to 10 terms"
   ]
  },
  {
   "cell_type": "code",
   "execution_count": 114,
   "id": "3d5677ec",
   "metadata": {},
   "outputs": [
    {
     "name": "stdout",
     "output_type": "stream",
     "text": [
      "Fibonacci sequence:\n",
      "0  1  1  2  3  5  8  13  21  34  "
     ]
    }
   ],
   "source": [
    "num1, num2 = 0, 1\n",
    "\n",
    "print(\"Fibonacci sequence:\")\n",
    "for i in range(10):\n",
    "    print(num1, end=\"  \")\n",
    "    res = num1 + num2\n",
    "    num1 = num2\n",
    "    num2 = res "
   ]
  },
  {
   "cell_type": "code",
   "execution_count": null,
   "id": "ca8f04b4",
   "metadata": {},
   "outputs": [],
   "source": []
  },
  {
   "cell_type": "markdown",
   "id": "ecf7c3af",
   "metadata": {},
   "source": [
    "### Exercise 13: Find the factorial of a given number"
   ]
  },
  {
   "cell_type": "code",
   "execution_count": 123,
   "id": "432a5211",
   "metadata": {},
   "outputs": [
    {
     "data": {
      "text/plain": [
       "120"
      ]
     },
     "execution_count": 123,
     "metadata": {},
     "output_type": "execute_result"
    }
   ],
   "source": [
    "def fact(num):\n",
    "    if num==0:\n",
    "        return 1\n",
    "    return num*fact(num-1)\n",
    "fact(5)"
   ]
  },
  {
   "cell_type": "markdown",
   "id": "7aa246e4",
   "metadata": {},
   "source": [
    "### Exercise 14: Reverse a given integer number"
   ]
  },
  {
   "cell_type": "code",
   "execution_count": 126,
   "id": "ac7f6a2a",
   "metadata": {},
   "outputs": [
    {
     "data": {
      "text/plain": [
       "541"
      ]
     },
     "execution_count": 126,
     "metadata": {},
     "output_type": "execute_result"
    }
   ],
   "source": [
    "def reverse_digit(num):\n",
    "    rev=0\n",
    "    while num!=0:\n",
    "        rem=num%10\n",
    "        rev=rev*10+rem\n",
    "        num=num//10\n",
    "\n",
    "    return rev\n",
    "reverse_digit(145)"
   ]
  },
  {
   "cell_type": "markdown",
   "id": "1df66a97",
   "metadata": {},
   "source": [
    "### Exercise 15: Use a loop to display elements from a given list present at odd index positions"
   ]
  },
  {
   "cell_type": "code",
   "execution_count": 128,
   "id": "9b7f51b2",
   "metadata": {},
   "outputs": [
    {
     "name": "stdout",
     "output_type": "stream",
     "text": [
      "index: 1 value: 20\n",
      "index: 3 value: 30\n",
      "index: 5 value: 60\n"
     ]
    }
   ],
   "source": [
    "list=[10,20,40,30,50,60,90]\n",
    "for i in range(len(list)):\n",
    "    if i%2!=0:\n",
    "        print(f\"index: {i} value: {list[i]}\")"
   ]
  },
  {
   "cell_type": "markdown",
   "id": "1c91bcb5",
   "metadata": {},
   "source": [
    "### Exercise 16: Calculate the cube of all numbers from 1 to a given number"
   ]
  },
  {
   "cell_type": "code",
   "execution_count": 134,
   "id": "36795545",
   "metadata": {},
   "outputs": [
    {
     "name": "stdout",
     "output_type": "stream",
     "text": [
      "Cube of 1=1\n",
      "Cube of 2=8\n",
      "Cube of 3=27\n",
      "Cube of 4=64\n",
      "Cube of 5=125\n",
      "Cube of 6=216\n",
      "Cube of 7=343\n",
      "Cube of 8=512\n",
      "Cube of 9=729\n"
     ]
    }
   ],
   "source": [
    "def Cube(Num):\n",
    "    for i in range(1,Num):\n",
    "        \n",
    "        print(f\"Cube of {i}={i*i*i}\")\n",
    "Cube(10)"
   ]
  },
  {
   "cell_type": "markdown",
   "id": "35ea7cac",
   "metadata": {},
   "source": [
    "### Exercise 17: Find the sum of the series upto n terms"
   ]
  },
  {
   "cell_type": "code",
   "execution_count": 144,
   "id": "26bd96b8",
   "metadata": {},
   "outputs": [
    {
     "name": "stdout",
     "output_type": "stream",
     "text": [
      "Enter Value of N:10\n",
      "1+2+3+4+5+6+7+8+9+10=55\n"
     ]
    }
   ],
   "source": [
    "def Sum(n):\n",
    "    sum=0\n",
    "    strg=\"\"\n",
    "    for i in range(1,n+1):\n",
    "        strg+=str(i)+\"+\"\n",
    "        sum+=i\n",
    "    return f\"{strg[:-1]}={str(sum)}\"\n",
    "n=int(input(\"Enter Value of N:\"))\n",
    "st=Sum(n)\n",
    "print(st)"
   ]
  },
  {
   "cell_type": "code",
   "execution_count": null,
   "id": "5d66fab6",
   "metadata": {},
   "outputs": [],
   "source": []
  },
  {
   "cell_type": "code",
   "execution_count": null,
   "id": "c1c77143",
   "metadata": {},
   "outputs": [],
   "source": [
    "Exercise 18: Print the following pattern\n",
    "* \n",
    "* * \n",
    "* * * \n",
    "* * * * \n",
    "* * * * * \n",
    "* * * * \n",
    "* * * \n",
    "* * \n",
    "*"
   ]
  },
  {
   "cell_type": "code",
   "execution_count": 148,
   "id": "ede1f614",
   "metadata": {},
   "outputs": [
    {
     "name": "stdout",
     "output_type": "stream",
     "text": [
      "Enter No of Rows6\n",
      "* \n",
      "* * \n",
      "* * * \n",
      "* * * * \n",
      "* * * * * \n",
      "* * * * * * \n",
      "* * * * * \n",
      "* * * * \n",
      "* * * \n",
      "* * \n",
      "* \n",
      "\n"
     ]
    }
   ],
   "source": [
    "row=int(input(\"Enter No of Rows\"))\n",
    "for i in range(1,row+1):\n",
    "    for j in range(i):\n",
    "        print(\"*\",end=\" \")\n",
    "    print()\n",
    "for i in range(1,row+1):\n",
    "    for j in range(row-i):\n",
    "        print(\"*\",end=\" \")\n",
    "    print()"
   ]
  },
  {
   "cell_type": "markdown",
   "id": "61397b65",
   "metadata": {},
   "source": [
    "# DAY 3"
   ]
  },
  {
   "cell_type": "markdown",
   "id": "d9bb88be",
   "metadata": {},
   "source": [
    "### Exercise 1: Given two lists create a third list by picking an odd-index element from the first list and even index elements from the second.\n",
    "* listOne = [3, 6, 9, 12, 15, 18, 21]\n",
    "* listTwo = [4, 8, 12, 16, 20, 24, 28]\n",
    "*Output:\n",
    "** Element at odd-index positions from list one\n",
    "** [6, 12, 18]\n",
    "** Element at even-index positions from list two\n",
    "** [4, 12, 20, 28]\n",
    "** Printing Final third list\n",
    "** [6, 12, 18, 4, 12, 20, 28]"
   ]
  },
  {
   "cell_type": "code",
   "execution_count": 152,
   "id": "c5478d7f",
   "metadata": {},
   "outputs": [
    {
     "data": {
      "text/plain": [
       "[6, 12, 18, 4, 12, 20, 28]"
      ]
     },
     "execution_count": 152,
     "metadata": {},
     "output_type": "execute_result"
    }
   ],
   "source": [
    "listOne = [3, 6, 9, 12, 15, 18, 21]\n",
    "listTwo = [4, 8, 12, 16, 20, 24, 28]\n",
    "\n",
    "list_odd=[]\n",
    "list_even=[]\n",
    "for i in range(len(listOne)):\n",
    "    if i%2!=0:\n",
    "        list_odd.append(listOne[i])\n",
    "for i in range(len(listTwo)):\n",
    "    if i%2==0:\n",
    "        list_even.append(listTwo[i])\n",
    "ans=list_odd+list_even\n",
    "ans"
   ]
  },
  {
   "cell_type": "markdown",
   "id": "9c592f66",
   "metadata": {},
   "source": [
    "### Exercise 2: Given a list slice it into 3 equal chunks and reverse each chunk\n",
    "Given:\n",
    "* sampleList = [11, 45, 8, 23, 14, 12, 78, 45, 89]\n",
    "* Expected Output:\n",
    "* Original list  [11, 45, 8, 23, 14, 12, 78, 45, 89]\n",
    "* Chunk  1 [11, 45, 8]\n",
    "* After reversing it  [8, 45, 11]\n",
    "* Chunk  2 [23, 14, 12]\n",
    "* After reversing it  [12, 14, 23]\n",
    "* Chunk  3 [78, 45, 89]\n",
    "* After reversing it  [89, 45, 78]"
   ]
  },
  {
   "cell_type": "code",
   "execution_count": 158,
   "id": "5e6acd14",
   "metadata": {},
   "outputs": [
    {
     "name": "stdout",
     "output_type": "stream",
     "text": [
      "Original List:[11, 45, 8, 23, 14, 12, 78, 45, 89]\n",
      "Chunk 1[11, 45, 8]\n",
      "After reversing it[8, 45, 11]\n",
      "Chunk 2[23, 14, 12]\n",
      "After reversing it[12, 14, 23]\n",
      "Chunk 3[78, 45, 89]\n",
      "After reversing it [89, 45, 78]\n"
     ]
    }
   ],
   "source": [
    "def Slice_equal_chunks(list1):\n",
    "    length=len(list1)\n",
    "    chunks=length//3\n",
    "    chunk1=list1[:chunks]\n",
    "    chunk2=list1[chunks:chunks+chunks]\n",
    "    chunk3=list1[chunks+chunks:]\n",
    "    print(f\"Original List:{list1}\")\n",
    "    print(f\"Chunk 1{chunk1}\")\n",
    "    print(f\"After reversing it{chunk1[::-1]}\")\n",
    "    print(f\"Chunk 2{chunk2}\")   \n",
    "    print(f\"After reversing it{chunk2[::-1]}\")\n",
    "    print(f\"Chunk 3{chunk3}\")   \n",
    "    print(f\"After reversing it {chunk3[::-1]}\")\n",
    "Slice_equal_chunks([11, 45, 8, 23, 14, 12, 78, 45, 89])\n",
    "    "
   ]
  },
  {
   "cell_type": "markdown",
   "id": "6fe2c752",
   "metadata": {},
   "source": [
    "### Exercise 4: Given two sets, Checks if One Set is a subset or superset of another Set. if the subset is found delete all elements from that set\n",
    "Given:\n",
    "* firstSet = {27, 43, 34}\n",
    "* secondSet = {34, 93, 22, 27, 43, 53, 48}\n",
    "* Expected Output:\n",
    "* First Set  {57, 83, 29}\n",
    "* Second Set  {67, 73, 43, 48, 83, 57, 29}\n",
    "\n",
    "* First set is subset of second set - True\n",
    "* Second set is subset of First set -  False\n",
    "\n",
    "* First set is Super set of second set -  False\n",
    "* Second set is Super set of First set -  True\n",
    "\n",
    "* First Set  set()\n",
    "* Second Set  {67, 73, 43, 48, 83, 57, 29"
   ]
  },
  {
   "cell_type": "code",
   "execution_count": 159,
   "id": "17bca568",
   "metadata": {},
   "outputs": [
    {
     "name": "stdout",
     "output_type": "stream",
     "text": [
      "First Set  {27, 34, 43}\n",
      "Second Set  {48, 34, 53, 22, 27, 43, 93}\n",
      "First set is subset of second set - True\n",
      "Second set is subset of First set -  False\n",
      "First set is Super set of second set -  False\n",
      "Second set is Super set of First set -  True\n",
      "First Set  set()\n",
      "Second Set  {48, 34, 53, 22, 27, 43, 93}\n"
     ]
    }
   ],
   "source": [
    "first_set = {27, 43, 34}\n",
    "second_set = {34, 93, 22, 27, 43, 53, 48}\n",
    "\n",
    "print(\"First Set \", first_set)\n",
    "print(\"Second Set \", second_set)\n",
    "\n",
    "print(\"First set is subset of second set -\", first_set.issubset(second_set))\n",
    "print(\"Second set is subset of First set - \", second_set.issubset(first_set))\n",
    "\n",
    "print(\"First set is Super set of second set - \", first_set.issuperset(second_set))\n",
    "print(\"Second set is Super set of First set - \", second_set.issuperset(first_set))\n",
    "\n",
    "if first_set.issubset(second_set):\n",
    "    first_set.clear()\n",
    "\n",
    "if second_set.issubset(first_set):\n",
    "    second_set.clear()\n",
    "\n",
    "print(\"First Set \", first_set)\n",
    "print(\"Second Set \", second_set)"
   ]
  },
  {
   "cell_type": "markdown",
   "id": "5c2826c2",
   "metadata": {},
   "source": [
    "### Exercise 5: Given a dictionary get all values from the dictionary and add them to a list but don’t add duplicates\n",
    "Given:\n",
    "* speed ={'jan':47, 'feb':52, 'march':47, 'April':44, 'May':52, 'June':53, 'july':54, 'Aug':44, 'Sept':54}\n",
    "*Output:\n",
    "*[47, 52, 44, 53, 54]"
   ]
  },
  {
   "cell_type": "code",
   "execution_count": 163,
   "id": "f83630da",
   "metadata": {},
   "outputs": [
    {
     "name": "stdout",
     "output_type": "stream",
     "text": [
      "[47, 52, 44, 53, 54]\n"
     ]
    }
   ],
   "source": [
    "speed ={'jan':47, 'feb':52, 'march':47, 'April':44, 'May':52, 'June':53, 'july':54, 'Aug':44, 'Sept':54}\n",
    "speed_list=[]\n",
    "for i in speed:\n",
    "    if speed[i] not in speed_list:\n",
    "        speed_list.append(speed[i])\n",
    "print(speed_list)     "
   ]
  },
  {
   "cell_type": "markdown",
   "id": "2dd01b76",
   "metadata": {},
   "source": [
    "# DAY 4"
   ]
  },
  {
   "cell_type": "markdown",
   "id": "25ba2eda",
   "metadata": {},
   "source": [
    "### OOP Exercise 1: Create a Vehicle class with max_speed and mileage instance attributes"
   ]
  },
  {
   "cell_type": "code",
   "execution_count": 176,
   "id": "96820acf",
   "metadata": {},
   "outputs": [],
   "source": [
    "class Vehicle:\n",
    "    def __init__(self,max_speed,mileage):\n",
    "        self.max_speed=max_speed\n",
    "        self.mileage=mileage"
   ]
  },
  {
   "cell_type": "markdown",
   "id": "852a948d",
   "metadata": {},
   "source": [
    "### OOP Exercise 2: Create a Vehicle class without any variables and methods"
   ]
  },
  {
   "cell_type": "code",
   "execution_count": null,
   "id": "4843d5bf",
   "metadata": {},
   "outputs": [],
   "source": [
    "class Vehicle:\n",
    "    pass"
   ]
  },
  {
   "cell_type": "markdown",
   "id": "31bdce31",
   "metadata": {},
   "source": [
    "### OOP Exercise 3: Create a child class Bus that will inherit all of the variables and methods of the Vehicle class\n",
    "Create a Bus object that will inherit all of the variables and methods of the Vehicle class and display it."
   ]
  },
  {
   "cell_type": "code",
   "execution_count": 178,
   "id": "25ab4dc9",
   "metadata": {},
   "outputs": [],
   "source": [
    "class Vehicle:\n",
    "    def __init__(self,name,max_speed,mileadge):\n",
    "        self.name=name\n",
    "        self.mileadge=mileadge\n",
    "        self.max_speed=max_speed\n",
    "class Bus(Vehicle):\n",
    "    pass"
   ]
  },
  {
   "cell_type": "code",
   "execution_count": 189,
   "id": "169c7bc3",
   "metadata": {},
   "outputs": [
    {
     "name": "stdout",
     "output_type": "stream",
     "text": [
      "Bus Name    : Arya College Chhapri bus\n",
      "Bus Speed   : 10\n",
      "Bus mileadge: 20\n"
     ]
    }
   ],
   "source": [
    "B1=Bus(\"Arya College Chhapri bus\",10,20)\n",
    "print(f\"Bus Name    : {B1.name}\\nBus Speed   : {B1.max_speed}\\nBus mileadge: {B1.mileadge}\")"
   ]
  },
  {
   "cell_type": "markdown",
   "id": "c406f103",
   "metadata": {},
   "source": [
    "### OOP Exercise 4: Class Inheritance\n",
    "Create a Bus class that inherits from the Vehicle class. Give the capacity argument of Bus.seating_capacity() a default value of 50."
   ]
  },
  {
   "cell_type": "code",
   "execution_count": 193,
   "id": "1aca6245",
   "metadata": {},
   "outputs": [],
   "source": [
    "class Vehicle:\n",
    "    def __init__(self,name,max_speed,mileadge):\n",
    "        self.name=name\n",
    "        self.mileadge=mileadge\n",
    "        self.max_speed=max_speed\n",
    "    def Seating_capacity(self,capacity):\n",
    "        print(f\"The Seat capacity of {self.name} is {capacity}\")\n",
    "class Bus(Vehicle):\n",
    "    pass\n"
   ]
  },
  {
   "cell_type": "code",
   "execution_count": 197,
   "id": "1490f24a",
   "metadata": {},
   "outputs": [
    {
     "name": "stdout",
     "output_type": "stream",
     "text": [
      "The Seat capacity of Arya College Chhapri bus is 50\n"
     ]
    }
   ],
   "source": [
    "B1=Bus(\"Arya College Chhapri bus\",10,20)\n",
    "B1.Seating_capacity(50)\n"
   ]
  },
  {
   "cell_type": "markdown",
   "id": "2d224ee2",
   "metadata": {},
   "source": [
    "### OOP Exercise 5: Define property that should have the same value for every class instance\n",
    "Define a class attribute”color” with a default value white. i.e., Every Vehicle should be white."
   ]
  },
  {
   "cell_type": "code",
   "execution_count": 198,
   "id": "01bf560d",
   "metadata": {},
   "outputs": [],
   "source": [
    "class Vehicle:\n",
    "    color=\"White\"\n",
    "    def __init__(self,name,max_speed,mileadge):\n",
    "        self.name=name\n",
    "        self.mileadge=mileadge\n",
    "        self.max_speed=max_speed\n",
    "    def Seating_capacity(self,capacity):\n",
    "        print(f\"The Seat capacity of {self.name} is {capacity}\")\n",
    "class Bus(Vehicle):\n",
    "    pass\n",
    "\n",
    "class Car(Vehicle):\n",
    "    pass"
   ]
  },
  {
   "cell_type": "code",
   "execution_count": 201,
   "id": "dd76c129",
   "metadata": {},
   "outputs": [
    {
     "name": "stdout",
     "output_type": "stream",
     "text": [
      "Bus name : Arya College Bus\n",
      "Bus max_speed : 120\n",
      "Bus mileadge : 20\n",
      "Bus Color : White\n"
     ]
    }
   ],
   "source": [
    "B1=Bus(\"Arya College Bus\",120,20)\n",
    "print(f\"Bus name : {B1.name}\\nBus max_speed : {B1.max_speed}\\nBus mileadge : {B1.mileadge}\\nBus Color : {B1.color}\")"
   ]
  },
  {
   "cell_type": "code",
   "execution_count": 202,
   "id": "5c6215d2",
   "metadata": {},
   "outputs": [
    {
     "name": "stdout",
     "output_type": "stream",
     "text": [
      "Car name : RollsRoy\n",
      "Bus max_speed : 160\n",
      "Bus mileadge : 40\n",
      "Bus Color : White\n"
     ]
    }
   ],
   "source": [
    "C1=Car(\"RollsRoy\",160,40)\n",
    "print(f\"Car name : {C1.name}\\nBus max_speed : {C1.max_speed}\\nBus mileadge : {C1.mileadge}\\nBus Color : {C1.color}\")"
   ]
  },
  {
   "cell_type": "markdown",
   "id": "d26d36d7",
   "metadata": {},
   "source": [
    "### OOP Exercise 6: Class Inheritance\n",
    "Create a Bus child class that inherits from the Vehicle class. The default fare charge of any vehicle is seating capacity * 100. If Vehicle is Bus instance, we need to add an extra 10% on full fare as a maintenance charge. So total fare for bus instance will become the final amount = total fare + 10% of the total fare.\n",
    "\n",
    "Note: The bus seating capacity is 50. so the final fare amount should be 5500. You need to override the fare() method of a Vehicle class in Bus class."
   ]
  },
  {
   "cell_type": "code",
   "execution_count": 229,
   "id": "1ed2efd0",
   "metadata": {},
   "outputs": [],
   "source": [
    "class Vehicle:\n",
    "    color=\"White\"\n",
    "    \n",
    "    def __init__(self,name,mileadge,capacity):\n",
    "        self.name=name\n",
    "        self.mileadge=mileadge\n",
    "        self.capacity=capacity\n",
    "    def fare(self):\n",
    "        return self.capacity*100\n",
    "class Bus(Vehicle):\n",
    "    def fare(self):\n",
    "        total_fare = super().fare()\n",
    "        total_fare += total_fare * 10 / 100\n",
    "        return total_fare"
   ]
  },
  {
   "cell_type": "code",
   "execution_count": 230,
   "id": "f5a61929",
   "metadata": {},
   "outputs": [
    {
     "data": {
      "text/plain": [
       "5500.0"
      ]
     },
     "execution_count": 230,
     "metadata": {},
     "output_type": "execute_result"
    }
   ],
   "source": [
    "B1=Bus(\"Arya College Volvo\",30,50)\n",
    "B1.fare()"
   ]
  },
  {
   "cell_type": "markdown",
   "id": "89957908",
   "metadata": {},
   "source": [
    "### OOP Exercise 7: Determine which class a given Bus object belongs to (Check type of an object)\n"
   ]
  },
  {
   "cell_type": "code",
   "execution_count": 6,
   "id": "7aae243f",
   "metadata": {},
   "outputs": [
    {
     "name": "stdout",
     "output_type": "stream",
     "text": [
      "<class '__main__.Bus'>\n"
     ]
    }
   ],
   "source": [
    "class Vehicle:\n",
    "    def __init__(self, name, mileage, capacity):\n",
    "        self.name = name\n",
    "        self.mileage = mileage\n",
    "        self.capacity = capacity\n",
    "\n",
    "class Bus(Vehicle):\n",
    "    pass\n",
    "\n",
    "School_bus = Bus(\"School Volvo\", 12, 50)\n",
    "print(type(School_bus))"
   ]
  },
  {
   "cell_type": "markdown",
   "id": "f2f9247e",
   "metadata": {},
   "source": [
    "### OOP Exercise 8: Determine if School_bus is also an instance of the Vehicle class \n",
    "class Vehicle:\n",
    "* def __init__(self, name, mileage, capacity):\n",
    "** self.name = name\n",
    "** self.mileage = mileage\n",
    "** self.capacity = capacity\n",
    "\n",
    "class Bus(Vehicle):\n",
    "    pass\n",
    "\n",
    "School_bus = Bus(\"School Volvo\", 12, 50)"
   ]
  },
  {
   "cell_type": "code",
   "execution_count": 4,
   "id": "ec84dd46",
   "metadata": {},
   "outputs": [
    {
     "name": "stdout",
     "output_type": "stream",
     "text": [
      "True\n"
     ]
    }
   ],
   "source": [
    "class Vehicle:\n",
    "    def init(self, name, mileage, capacity):\n",
    "        self.name = name\n",
    "        self.mileage = mileage\n",
    "        self.capacity = capacity\n",
    "class Bus(Vehicle): \n",
    "    pass\n",
    "\n",
    "School_bus = Bus()\n",
    "print(isinstance(School_bus,Vehicle))"
   ]
  },
  {
   "cell_type": "markdown",
   "id": "91162aa7",
   "metadata": {},
   "source": [
    "# DAY 5"
   ]
  },
  {
   "cell_type": "markdown",
   "id": "24e42a16",
   "metadata": {},
   "source": [
    "### Write a program to create a function that takes two arguments, name and age, and print their value."
   ]
  },
  {
   "cell_type": "code",
   "execution_count": 7,
   "id": "a5d13254",
   "metadata": {},
   "outputs": [],
   "source": [
    "def func(name,age):\n",
    "    print(f\"Name:{name}\\nAge:{age}\")"
   ]
  },
  {
   "cell_type": "code",
   "execution_count": 8,
   "id": "49f0c71d",
   "metadata": {},
   "outputs": [
    {
     "name": "stdout",
     "output_type": "stream",
     "text": [
      "Name:Rajesh\n",
      "Age:22\n"
     ]
    }
   ],
   "source": [
    "func(\"Rajesh\",22)"
   ]
  },
  {
   "cell_type": "markdown",
   "id": "5f49d1a8",
   "metadata": {},
   "source": [
    "### Exercise 2: Create a function with variable length of arguments\n",
    "#### Write a program to create function func1() to accept a variable length of arguments and print their value.\n",
    "\n",
    "###### Note: Create a function in such a way that we can pass any number of arguments to this function and the function should process them and display each argument’s value."
   ]
  },
  {
   "cell_type": "code",
   "execution_count": 11,
   "id": "caeb52d5",
   "metadata": {},
   "outputs": [
    {
     "name": "stdout",
     "output_type": "stream",
     "text": [
      "45 69 89 50 "
     ]
    }
   ],
   "source": [
    "def func1(*arg):\n",
    "    for i in arg:\n",
    "        print(i,end=\" \")\n",
    "func1(45,69,89,50)"
   ]
  },
  {
   "cell_type": "markdown",
   "id": "b83e4ac5",
   "metadata": {},
   "source": [
    "### Exercise 3: Return multiple values from a function\n",
    "##### Write a program to create function calculation() such that it can accept two variables and calculate addition and subtraction. Also, it must return both addition and subtraction in a single return call.\n",
    "#### Given:\n"
   ]
  },
  {
   "cell_type": "code",
   "execution_count": 12,
   "id": "6bac7215",
   "metadata": {},
   "outputs": [
    {
     "name": "stdout",
     "output_type": "stream",
     "text": [
      "(50, 30)\n"
     ]
    }
   ],
   "source": [
    "def calculation(a, b):\n",
    "    # Your Code\n",
    "    add=a+b\n",
    "    sub=a-b\n",
    "    return add,sub\n",
    "\n",
    "res = calculation(40, 10)\n",
    "print(res)"
   ]
  },
  {
   "cell_type": "markdown",
   "id": "454112dd",
   "metadata": {},
   "source": [
    "### Exercise 4: Create a function with default argument"
   ]
  },
  {
   "cell_type": "code",
   "execution_count": 17,
   "id": "b70db9ab",
   "metadata": {},
   "outputs": [
    {
     "name": "stdout",
     "output_type": "stream",
     "text": [
      "Name : Rajesh\n",
      "Age : 21 \n",
      "Semester : 7\n"
     ]
    }
   ],
   "source": [
    "def func(sem,name=\"Rajesh\",age=21):\n",
    "    print(f\"Name : {name}\\nAge : {age} \\nSemester : {sem}\")\n",
    "func(7)"
   ]
  },
  {
   "cell_type": "markdown",
   "id": "88f29f52",
   "metadata": {},
   "source": [
    "### Exercise 5: Create an inner function to calculate the addition in the following way"
   ]
  },
  {
   "cell_type": "code",
   "execution_count": 20,
   "id": "cc191d4b",
   "metadata": {},
   "outputs": [],
   "source": [
    "def func1(num1,num2):\n",
    "    def add(num1,num2):\n",
    "        return num1+num2\n",
    "    print(add(num1,num2))"
   ]
  },
  {
   "cell_type": "code",
   "execution_count": 21,
   "id": "08b82c6f",
   "metadata": {},
   "outputs": [
    {
     "name": "stdout",
     "output_type": "stream",
     "text": [
      "11\n"
     ]
    }
   ],
   "source": [
    "func1(5,6)"
   ]
  },
  {
   "cell_type": "markdown",
   "id": "2bb7d4cf",
   "metadata": {},
   "source": [
    "### Exercise 7: Assign a different name to function and call it through the new name"
   ]
  },
  {
   "cell_type": "code",
   "execution_count": 4,
   "id": "443859bd",
   "metadata": {},
   "outputs": [
    {
     "name": "stdout",
     "output_type": "stream",
     "text": [
      "Name : Rajesh\n",
      "Age : 22\n",
      "Name : Ranveer Singh Ranawat\n",
      "Age : 22\n"
     ]
    }
   ],
   "source": [
    "def cel_employee(name,age):\n",
    "    print(f\"Name : {name}\\nAge : {age}\")\n",
    "cel_employee(\"Rajesh\",22)\n",
    "cel_big_data=cel_employee\n",
    "cel_employee(\"Ranveer Singh Ranawat\",22)"
   ]
  },
  {
   "cell_type": "markdown",
   "id": "5678c75e",
   "metadata": {},
   "source": [
    "### Exercise 8: Generate a Python list of all the even numbers between 4 to 30"
   ]
  },
  {
   "cell_type": "code",
   "execution_count": 5,
   "id": "ffd0da1c",
   "metadata": {},
   "outputs": [
    {
     "name": "stdout",
     "output_type": "stream",
     "text": [
      "[4, 6, 8, 10, 12, 14, 16, 18, 20, 22, 24, 26, 28]\n"
     ]
    }
   ],
   "source": [
    "print(list(range(4, 30, 2)))"
   ]
  },
  {
   "cell_type": "markdown",
   "id": "0aa8c829",
   "metadata": {},
   "source": [
    "### Exercise 9: Find the largest item from a given list"
   ]
  },
  {
   "cell_type": "code",
   "execution_count": 6,
   "id": "816f3e85",
   "metadata": {},
   "outputs": [
    {
     "name": "stdout",
     "output_type": "stream",
     "text": [
      "24\n"
     ]
    }
   ],
   "source": [
    "x = [4, 6, 8, 24, 12, 2]\n",
    "print(max(x))"
   ]
  },
  {
   "cell_type": "markdown",
   "id": "0729c70f",
   "metadata": {},
   "source": [
    "# DAY 7"
   ]
  },
  {
   "cell_type": "markdown",
   "id": "0551e5ae",
   "metadata": {},
   "source": [
    "#### Exercise 1: From the given dataset print the first and last five rows"
   ]
  },
  {
   "cell_type": "code",
   "execution_count": 1,
   "id": "77a9931c",
   "metadata": {},
   "outputs": [],
   "source": [
    "import pandas as pd\n"
   ]
  },
  {
   "cell_type": "code",
   "execution_count": 2,
   "id": "74e15245",
   "metadata": {},
   "outputs": [],
   "source": [
    "df=pd.read_csv(\"Automobile_data.csv\")"
   ]
  },
  {
   "cell_type": "code",
   "execution_count": 3,
   "id": "c12b803d",
   "metadata": {},
   "outputs": [
    {
     "data": {
      "text/html": [
       "<div>\n",
       "<style scoped>\n",
       "    .dataframe tbody tr th:only-of-type {\n",
       "        vertical-align: middle;\n",
       "    }\n",
       "\n",
       "    .dataframe tbody tr th {\n",
       "        vertical-align: top;\n",
       "    }\n",
       "\n",
       "    .dataframe thead th {\n",
       "        text-align: right;\n",
       "    }\n",
       "</style>\n",
       "<table border=\"1\" class=\"dataframe\">\n",
       "  <thead>\n",
       "    <tr style=\"text-align: right;\">\n",
       "      <th></th>\n",
       "      <th>index</th>\n",
       "      <th>company</th>\n",
       "      <th>body-style</th>\n",
       "      <th>wheel-base</th>\n",
       "      <th>length</th>\n",
       "      <th>engine-type</th>\n",
       "      <th>num-of-cylinders</th>\n",
       "      <th>horsepower</th>\n",
       "      <th>average-mileage</th>\n",
       "      <th>price</th>\n",
       "    </tr>\n",
       "  </thead>\n",
       "  <tbody>\n",
       "    <tr>\n",
       "      <th>56</th>\n",
       "      <td>81</td>\n",
       "      <td>volkswagen</td>\n",
       "      <td>sedan</td>\n",
       "      <td>97.3</td>\n",
       "      <td>171.7</td>\n",
       "      <td>ohc</td>\n",
       "      <td>four</td>\n",
       "      <td>85</td>\n",
       "      <td>27</td>\n",
       "      <td>7975.0</td>\n",
       "    </tr>\n",
       "    <tr>\n",
       "      <th>57</th>\n",
       "      <td>82</td>\n",
       "      <td>volkswagen</td>\n",
       "      <td>sedan</td>\n",
       "      <td>97.3</td>\n",
       "      <td>171.7</td>\n",
       "      <td>ohc</td>\n",
       "      <td>four</td>\n",
       "      <td>52</td>\n",
       "      <td>37</td>\n",
       "      <td>7995.0</td>\n",
       "    </tr>\n",
       "    <tr>\n",
       "      <th>58</th>\n",
       "      <td>86</td>\n",
       "      <td>volkswagen</td>\n",
       "      <td>sedan</td>\n",
       "      <td>97.3</td>\n",
       "      <td>171.7</td>\n",
       "      <td>ohc</td>\n",
       "      <td>four</td>\n",
       "      <td>100</td>\n",
       "      <td>26</td>\n",
       "      <td>9995.0</td>\n",
       "    </tr>\n",
       "    <tr>\n",
       "      <th>59</th>\n",
       "      <td>87</td>\n",
       "      <td>volvo</td>\n",
       "      <td>sedan</td>\n",
       "      <td>104.3</td>\n",
       "      <td>188.8</td>\n",
       "      <td>ohc</td>\n",
       "      <td>four</td>\n",
       "      <td>114</td>\n",
       "      <td>23</td>\n",
       "      <td>12940.0</td>\n",
       "    </tr>\n",
       "    <tr>\n",
       "      <th>60</th>\n",
       "      <td>88</td>\n",
       "      <td>volvo</td>\n",
       "      <td>wagon</td>\n",
       "      <td>104.3</td>\n",
       "      <td>188.8</td>\n",
       "      <td>ohc</td>\n",
       "      <td>four</td>\n",
       "      <td>114</td>\n",
       "      <td>23</td>\n",
       "      <td>13415.0</td>\n",
       "    </tr>\n",
       "  </tbody>\n",
       "</table>\n",
       "</div>"
      ],
      "text/plain": [
       "    index     company body-style  wheel-base  length engine-type  \\\n",
       "56     81  volkswagen      sedan        97.3   171.7         ohc   \n",
       "57     82  volkswagen      sedan        97.3   171.7         ohc   \n",
       "58     86  volkswagen      sedan        97.3   171.7         ohc   \n",
       "59     87       volvo      sedan       104.3   188.8         ohc   \n",
       "60     88       volvo      wagon       104.3   188.8         ohc   \n",
       "\n",
       "   num-of-cylinders  horsepower  average-mileage    price  \n",
       "56             four          85               27   7975.0  \n",
       "57             four          52               37   7995.0  \n",
       "58             four         100               26   9995.0  \n",
       "59             four         114               23  12940.0  \n",
       "60             four         114               23  13415.0  "
      ]
     },
     "execution_count": 3,
     "metadata": {},
     "output_type": "execute_result"
    }
   ],
   "source": [
    "df.tail(5)"
   ]
  },
  {
   "cell_type": "markdown",
   "id": "93e58440",
   "metadata": {},
   "source": [
    "### Exercise 2: Clean the dataset and update the CSV file"
   ]
  },
  {
   "cell_type": "code",
   "execution_count": 6,
   "id": "540e2a66",
   "metadata": {
    "scrolled": true
   },
   "outputs": [
    {
     "name": "stdout",
     "output_type": "stream",
     "text": [
      "    index      company   body-style  wheel-base  length engine-type  \\\n",
      "0       0  alfa-romero  convertible        88.6   168.8        dohc   \n",
      "1       1  alfa-romero  convertible        88.6   168.8        dohc   \n",
      "2       2  alfa-romero    hatchback        94.5   171.2        ohcv   \n",
      "3       3         audi        sedan        99.8   176.6         ohc   \n",
      "4       4         audi        sedan        99.4   176.6         ohc   \n",
      "..    ...          ...          ...         ...     ...         ...   \n",
      "56     81   volkswagen        sedan        97.3   171.7         ohc   \n",
      "57     82   volkswagen        sedan        97.3   171.7         ohc   \n",
      "58     86   volkswagen        sedan        97.3   171.7         ohc   \n",
      "59     87        volvo        sedan       104.3   188.8         ohc   \n",
      "60     88        volvo        wagon       104.3   188.8         ohc   \n",
      "\n",
      "   num-of-cylinders  horsepower  average-mileage    price  \n",
      "0              four         111               21  13495.0  \n",
      "1              four         111               21  16500.0  \n",
      "2               six         154               19  16500.0  \n",
      "3              four         102               24  13950.0  \n",
      "4              five         115               18  17450.0  \n",
      "..              ...         ...              ...      ...  \n",
      "56             four          85               27   7975.0  \n",
      "57             four          52               37   7995.0  \n",
      "58             four         100               26   9995.0  \n",
      "59             four         114               23  12940.0  \n",
      "60             four         114               23  13415.0  \n",
      "\n",
      "[61 rows x 10 columns]\n"
     ]
    }
   ],
   "source": [
    "df = pd.read_csv(\"Automobile_data.csv\", na_values={\n",
    "'price':[\"?\",\"n.a\"],\n",
    "'stroke':[\"?\",\"n.a\"],\n",
    "'horsepower':[\"?\",\"n.a\"],\n",
    "'peak-rpm':[\"?\",\"n.a\"],\n",
    "'average-mileage':[\"?\",\"n.a\"]})\n",
    "print (df)\n",
    "\n",
    "df.to_csv(\"Automobile_data.csv\")"
   ]
  },
  {
   "cell_type": "markdown",
   "id": "9536c255",
   "metadata": {},
   "source": [
    "#### Exercise 3: Find the most expensive car company name"
   ]
  },
  {
   "cell_type": "code",
   "execution_count": 7,
   "id": "fb445344",
   "metadata": {},
   "outputs": [],
   "source": [
    "df=df[['company','price']][df.price==df['price'].max()]"
   ]
  },
  {
   "cell_type": "code",
   "execution_count": 8,
   "id": "65aff1d2",
   "metadata": {},
   "outputs": [
    {
     "data": {
      "text/html": [
       "<div>\n",
       "<style scoped>\n",
       "    .dataframe tbody tr th:only-of-type {\n",
       "        vertical-align: middle;\n",
       "    }\n",
       "\n",
       "    .dataframe tbody tr th {\n",
       "        vertical-align: top;\n",
       "    }\n",
       "\n",
       "    .dataframe thead th {\n",
       "        text-align: right;\n",
       "    }\n",
       "</style>\n",
       "<table border=\"1\" class=\"dataframe\">\n",
       "  <thead>\n",
       "    <tr style=\"text-align: right;\">\n",
       "      <th></th>\n",
       "      <th>company</th>\n",
       "      <th>price</th>\n",
       "    </tr>\n",
       "  </thead>\n",
       "  <tbody>\n",
       "    <tr>\n",
       "      <th>35</th>\n",
       "      <td>mercedes-benz</td>\n",
       "      <td>45400.0</td>\n",
       "    </tr>\n",
       "  </tbody>\n",
       "</table>\n",
       "</div>"
      ],
      "text/plain": [
       "          company    price\n",
       "35  mercedes-benz  45400.0"
      ]
     },
     "execution_count": 8,
     "metadata": {},
     "output_type": "execute_result"
    }
   ],
   "source": [
    "df"
   ]
  },
  {
   "cell_type": "markdown",
   "id": "7ceb885c",
   "metadata": {},
   "source": [
    "### Print All Toyota Cars details"
   ]
  },
  {
   "cell_type": "code",
   "execution_count": 21,
   "id": "90ee59f1",
   "metadata": {},
   "outputs": [
    {
     "data": {
      "text/html": [
       "<div>\n",
       "<style scoped>\n",
       "    .dataframe tbody tr th:only-of-type {\n",
       "        vertical-align: middle;\n",
       "    }\n",
       "\n",
       "    .dataframe tbody tr th {\n",
       "        vertical-align: top;\n",
       "    }\n",
       "\n",
       "    .dataframe thead th {\n",
       "        text-align: right;\n",
       "    }\n",
       "</style>\n",
       "<table border=\"1\" class=\"dataframe\">\n",
       "  <thead>\n",
       "    <tr style=\"text-align: right;\">\n",
       "      <th></th>\n",
       "      <th>Unnamed: 0</th>\n",
       "      <th>index</th>\n",
       "      <th>company</th>\n",
       "      <th>body-style</th>\n",
       "      <th>wheel-base</th>\n",
       "      <th>length</th>\n",
       "      <th>engine-type</th>\n",
       "      <th>num-of-cylinders</th>\n",
       "      <th>horsepower</th>\n",
       "      <th>average-mileage</th>\n",
       "      <th>price</th>\n",
       "    </tr>\n",
       "  </thead>\n",
       "  <tbody>\n",
       "    <tr>\n",
       "      <th>48</th>\n",
       "      <td>48</td>\n",
       "      <td>66</td>\n",
       "      <td>toyota</td>\n",
       "      <td>hatchback</td>\n",
       "      <td>95.7</td>\n",
       "      <td>158.7</td>\n",
       "      <td>ohc</td>\n",
       "      <td>four</td>\n",
       "      <td>62</td>\n",
       "      <td>35</td>\n",
       "      <td>5348.0</td>\n",
       "    </tr>\n",
       "    <tr>\n",
       "      <th>49</th>\n",
       "      <td>49</td>\n",
       "      <td>67</td>\n",
       "      <td>toyota</td>\n",
       "      <td>hatchback</td>\n",
       "      <td>95.7</td>\n",
       "      <td>158.7</td>\n",
       "      <td>ohc</td>\n",
       "      <td>four</td>\n",
       "      <td>62</td>\n",
       "      <td>31</td>\n",
       "      <td>6338.0</td>\n",
       "    </tr>\n",
       "    <tr>\n",
       "      <th>50</th>\n",
       "      <td>50</td>\n",
       "      <td>68</td>\n",
       "      <td>toyota</td>\n",
       "      <td>hatchback</td>\n",
       "      <td>95.7</td>\n",
       "      <td>158.7</td>\n",
       "      <td>ohc</td>\n",
       "      <td>four</td>\n",
       "      <td>62</td>\n",
       "      <td>31</td>\n",
       "      <td>6488.0</td>\n",
       "    </tr>\n",
       "    <tr>\n",
       "      <th>51</th>\n",
       "      <td>51</td>\n",
       "      <td>69</td>\n",
       "      <td>toyota</td>\n",
       "      <td>wagon</td>\n",
       "      <td>95.7</td>\n",
       "      <td>169.7</td>\n",
       "      <td>ohc</td>\n",
       "      <td>four</td>\n",
       "      <td>62</td>\n",
       "      <td>31</td>\n",
       "      <td>6918.0</td>\n",
       "    </tr>\n",
       "    <tr>\n",
       "      <th>52</th>\n",
       "      <td>52</td>\n",
       "      <td>70</td>\n",
       "      <td>toyota</td>\n",
       "      <td>wagon</td>\n",
       "      <td>95.7</td>\n",
       "      <td>169.7</td>\n",
       "      <td>ohc</td>\n",
       "      <td>four</td>\n",
       "      <td>62</td>\n",
       "      <td>27</td>\n",
       "      <td>7898.0</td>\n",
       "    </tr>\n",
       "    <tr>\n",
       "      <th>53</th>\n",
       "      <td>53</td>\n",
       "      <td>71</td>\n",
       "      <td>toyota</td>\n",
       "      <td>wagon</td>\n",
       "      <td>95.7</td>\n",
       "      <td>169.7</td>\n",
       "      <td>ohc</td>\n",
       "      <td>four</td>\n",
       "      <td>62</td>\n",
       "      <td>27</td>\n",
       "      <td>8778.0</td>\n",
       "    </tr>\n",
       "    <tr>\n",
       "      <th>54</th>\n",
       "      <td>54</td>\n",
       "      <td>79</td>\n",
       "      <td>toyota</td>\n",
       "      <td>wagon</td>\n",
       "      <td>104.5</td>\n",
       "      <td>187.8</td>\n",
       "      <td>dohc</td>\n",
       "      <td>six</td>\n",
       "      <td>156</td>\n",
       "      <td>19</td>\n",
       "      <td>15750.0</td>\n",
       "    </tr>\n",
       "  </tbody>\n",
       "</table>\n",
       "</div>"
      ],
      "text/plain": [
       "    Unnamed: 0  index company body-style  wheel-base  length engine-type  \\\n",
       "48          48     66  toyota  hatchback        95.7   158.7         ohc   \n",
       "49          49     67  toyota  hatchback        95.7   158.7         ohc   \n",
       "50          50     68  toyota  hatchback        95.7   158.7         ohc   \n",
       "51          51     69  toyota      wagon        95.7   169.7         ohc   \n",
       "52          52     70  toyota      wagon        95.7   169.7         ohc   \n",
       "53          53     71  toyota      wagon        95.7   169.7         ohc   \n",
       "54          54     79  toyota      wagon       104.5   187.8        dohc   \n",
       "\n",
       "   num-of-cylinders  horsepower  average-mileage    price  \n",
       "48             four          62               35   5348.0  \n",
       "49             four          62               31   6338.0  \n",
       "50             four          62               31   6488.0  \n",
       "51             four          62               31   6918.0  \n",
       "52             four          62               27   7898.0  \n",
       "53             four          62               27   8778.0  \n",
       "54              six         156               19  15750.0  "
      ]
     },
     "execution_count": 21,
     "metadata": {},
     "output_type": "execute_result"
    }
   ],
   "source": [
    "df = pd.read_csv(\"Automobile_data.csv\")\n",
    "car_Manufacturers = df.groupby('company')\n",
    "toyotaDf = car_Manufacturers.get_group('toyota')\n",
    "toyotaDf"
   ]
  },
  {
   "cell_type": "code",
   "execution_count": null,
   "id": "5fa75164",
   "metadata": {},
   "outputs": [],
   "source": []
  },
  {
   "cell_type": "markdown",
   "id": "b432984a",
   "metadata": {},
   "source": [
    "### Count total cars per company"
   ]
  },
  {
   "cell_type": "code",
   "execution_count": 14,
   "id": "d9d76ee8",
   "metadata": {},
   "outputs": [
    {
     "data": {
      "text/plain": [
       "mercedes-benz    1\n",
       "Name: company, dtype: int64"
      ]
     },
     "execution_count": 14,
     "metadata": {},
     "output_type": "execute_result"
    }
   ],
   "source": [
    "df['company'].value_counts()"
   ]
  },
  {
   "cell_type": "markdown",
   "id": "a163ccdf",
   "metadata": {},
   "source": [
    "### Exercise 6: Find each company’s Higesht price car"
   ]
  },
  {
   "cell_type": "code",
   "execution_count": 15,
   "id": "7c38f7fc",
   "metadata": {},
   "outputs": [
    {
     "name": "stderr",
     "output_type": "stream",
     "text": [
      "C:\\Users\\erraj\\AppData\\Local\\Temp\\ipykernel_20760\\1278452937.py:2: FutureWarning: Indexing with multiple keys (implicitly converted to a tuple of keys) will be deprecated, use a list instead.\n",
      "  priceDf = car_Manufacturers['company','price'].max()\n"
     ]
    },
    {
     "data": {
      "text/html": [
       "<div>\n",
       "<style scoped>\n",
       "    .dataframe tbody tr th:only-of-type {\n",
       "        vertical-align: middle;\n",
       "    }\n",
       "\n",
       "    .dataframe tbody tr th {\n",
       "        vertical-align: top;\n",
       "    }\n",
       "\n",
       "    .dataframe thead th {\n",
       "        text-align: right;\n",
       "    }\n",
       "</style>\n",
       "<table border=\"1\" class=\"dataframe\">\n",
       "  <thead>\n",
       "    <tr style=\"text-align: right;\">\n",
       "      <th></th>\n",
       "      <th>company</th>\n",
       "      <th>price</th>\n",
       "    </tr>\n",
       "    <tr>\n",
       "      <th>company</th>\n",
       "      <th></th>\n",
       "      <th></th>\n",
       "    </tr>\n",
       "  </thead>\n",
       "  <tbody>\n",
       "    <tr>\n",
       "      <th>mercedes-benz</th>\n",
       "      <td>mercedes-benz</td>\n",
       "      <td>45400.0</td>\n",
       "    </tr>\n",
       "  </tbody>\n",
       "</table>\n",
       "</div>"
      ],
      "text/plain": [
       "                     company    price\n",
       "company                              \n",
       "mercedes-benz  mercedes-benz  45400.0"
      ]
     },
     "execution_count": 15,
     "metadata": {},
     "output_type": "execute_result"
    }
   ],
   "source": [
    "car_Manufacturers = df.groupby('company')\n",
    "priceDf = car_Manufacturers['company','price'].max()\n",
    "priceDf"
   ]
  },
  {
   "cell_type": "markdown",
   "id": "2d9eab3f",
   "metadata": {},
   "source": [
    "### Exercise 7: Find the average mileage of each car making company"
   ]
  },
  {
   "cell_type": "code",
   "execution_count": 20,
   "id": "d5743621",
   "metadata": {},
   "outputs": [
    {
     "name": "stderr",
     "output_type": "stream",
     "text": [
      "C:\\Users\\erraj\\AppData\\Local\\Temp\\ipykernel_20760\\2767902227.py:3: FutureWarning: Indexing with multiple keys (implicitly converted to a tuple of keys) will be deprecated, use a list instead.\n",
      "  mileageDf = car_Manufacturers['company','average-mileage'].mean()\n",
      "C:\\Users\\erraj\\AppData\\Local\\Temp\\ipykernel_20760\\2767902227.py:3: FutureWarning: The default value of numeric_only in DataFrameGroupBy.mean is deprecated. In a future version, numeric_only will default to False. Either specify numeric_only or select only columns which should be valid for the function.\n",
      "  mileageDf = car_Manufacturers['company','average-mileage'].mean()\n"
     ]
    },
    {
     "data": {
      "text/html": [
       "<div>\n",
       "<style scoped>\n",
       "    .dataframe tbody tr th:only-of-type {\n",
       "        vertical-align: middle;\n",
       "    }\n",
       "\n",
       "    .dataframe tbody tr th {\n",
       "        vertical-align: top;\n",
       "    }\n",
       "\n",
       "    .dataframe thead th {\n",
       "        text-align: right;\n",
       "    }\n",
       "</style>\n",
       "<table border=\"1\" class=\"dataframe\">\n",
       "  <thead>\n",
       "    <tr style=\"text-align: right;\">\n",
       "      <th></th>\n",
       "      <th>average-mileage</th>\n",
       "    </tr>\n",
       "    <tr>\n",
       "      <th>company</th>\n",
       "      <th></th>\n",
       "    </tr>\n",
       "  </thead>\n",
       "  <tbody>\n",
       "    <tr>\n",
       "      <th>alfa-romero</th>\n",
       "      <td>20.333333</td>\n",
       "    </tr>\n",
       "    <tr>\n",
       "      <th>audi</th>\n",
       "      <td>20.000000</td>\n",
       "    </tr>\n",
       "    <tr>\n",
       "      <th>bmw</th>\n",
       "      <td>19.000000</td>\n",
       "    </tr>\n",
       "    <tr>\n",
       "      <th>chevrolet</th>\n",
       "      <td>41.000000</td>\n",
       "    </tr>\n",
       "    <tr>\n",
       "      <th>dodge</th>\n",
       "      <td>31.000000</td>\n",
       "    </tr>\n",
       "    <tr>\n",
       "      <th>honda</th>\n",
       "      <td>26.333333</td>\n",
       "    </tr>\n",
       "    <tr>\n",
       "      <th>isuzu</th>\n",
       "      <td>33.333333</td>\n",
       "    </tr>\n",
       "    <tr>\n",
       "      <th>jaguar</th>\n",
       "      <td>14.333333</td>\n",
       "    </tr>\n",
       "    <tr>\n",
       "      <th>mazda</th>\n",
       "      <td>28.000000</td>\n",
       "    </tr>\n",
       "    <tr>\n",
       "      <th>mercedes-benz</th>\n",
       "      <td>18.000000</td>\n",
       "    </tr>\n",
       "    <tr>\n",
       "      <th>mitsubishi</th>\n",
       "      <td>29.500000</td>\n",
       "    </tr>\n",
       "    <tr>\n",
       "      <th>nissan</th>\n",
       "      <td>31.400000</td>\n",
       "    </tr>\n",
       "    <tr>\n",
       "      <th>porsche</th>\n",
       "      <td>17.000000</td>\n",
       "    </tr>\n",
       "    <tr>\n",
       "      <th>toyota</th>\n",
       "      <td>28.714286</td>\n",
       "    </tr>\n",
       "    <tr>\n",
       "      <th>volkswagen</th>\n",
       "      <td>31.750000</td>\n",
       "    </tr>\n",
       "    <tr>\n",
       "      <th>volvo</th>\n",
       "      <td>23.000000</td>\n",
       "    </tr>\n",
       "  </tbody>\n",
       "</table>\n",
       "</div>"
      ],
      "text/plain": [
       "               average-mileage\n",
       "company                       \n",
       "alfa-romero          20.333333\n",
       "audi                 20.000000\n",
       "bmw                  19.000000\n",
       "chevrolet            41.000000\n",
       "dodge                31.000000\n",
       "honda                26.333333\n",
       "isuzu                33.333333\n",
       "jaguar               14.333333\n",
       "mazda                28.000000\n",
       "mercedes-benz        18.000000\n",
       "mitsubishi           29.500000\n",
       "nissan               31.400000\n",
       "porsche              17.000000\n",
       "toyota               28.714286\n",
       "volkswagen           31.750000\n",
       "volvo                23.000000"
      ]
     },
     "execution_count": 20,
     "metadata": {},
     "output_type": "execute_result"
    }
   ],
   "source": [
    "df = pd.read_csv(\"Automobile_data.csv\")\n",
    "car_Manufacturers = df.groupby('company')\n",
    "mileageDf = car_Manufacturers['company','average-mileage'].mean()\n",
    "mileageDf"
   ]
  },
  {
   "cell_type": "markdown",
   "id": "7c0d07b2",
   "metadata": {},
   "source": [
    "### Exercise 8: Sort all cars by Price column"
   ]
  },
  {
   "cell_type": "code",
   "execution_count": 18,
   "id": "f3fd84de",
   "metadata": {},
   "outputs": [
    {
     "data": {
      "text/html": [
       "<div>\n",
       "<style scoped>\n",
       "    .dataframe tbody tr th:only-of-type {\n",
       "        vertical-align: middle;\n",
       "    }\n",
       "\n",
       "    .dataframe tbody tr th {\n",
       "        vertical-align: top;\n",
       "    }\n",
       "\n",
       "    .dataframe thead th {\n",
       "        text-align: right;\n",
       "    }\n",
       "</style>\n",
       "<table border=\"1\" class=\"dataframe\">\n",
       "  <thead>\n",
       "    <tr style=\"text-align: right;\">\n",
       "      <th></th>\n",
       "      <th>Unnamed: 0</th>\n",
       "      <th>index</th>\n",
       "      <th>company</th>\n",
       "      <th>body-style</th>\n",
       "      <th>wheel-base</th>\n",
       "      <th>length</th>\n",
       "      <th>engine-type</th>\n",
       "      <th>num-of-cylinders</th>\n",
       "      <th>horsepower</th>\n",
       "      <th>average-mileage</th>\n",
       "      <th>price</th>\n",
       "    </tr>\n",
       "  </thead>\n",
       "  <tbody>\n",
       "    <tr>\n",
       "      <th>35</th>\n",
       "      <td>35</td>\n",
       "      <td>47</td>\n",
       "      <td>mercedes-benz</td>\n",
       "      <td>hardtop</td>\n",
       "      <td>112.0</td>\n",
       "      <td>199.2</td>\n",
       "      <td>ohcv</td>\n",
       "      <td>eight</td>\n",
       "      <td>184</td>\n",
       "      <td>14</td>\n",
       "      <td>45400.0</td>\n",
       "    </tr>\n",
       "    <tr>\n",
       "      <th>11</th>\n",
       "      <td>11</td>\n",
       "      <td>14</td>\n",
       "      <td>bmw</td>\n",
       "      <td>sedan</td>\n",
       "      <td>103.5</td>\n",
       "      <td>193.8</td>\n",
       "      <td>ohc</td>\n",
       "      <td>six</td>\n",
       "      <td>182</td>\n",
       "      <td>16</td>\n",
       "      <td>41315.0</td>\n",
       "    </tr>\n",
       "    <tr>\n",
       "      <th>34</th>\n",
       "      <td>34</td>\n",
       "      <td>46</td>\n",
       "      <td>mercedes-benz</td>\n",
       "      <td>sedan</td>\n",
       "      <td>120.9</td>\n",
       "      <td>208.1</td>\n",
       "      <td>ohcv</td>\n",
       "      <td>eight</td>\n",
       "      <td>184</td>\n",
       "      <td>14</td>\n",
       "      <td>40960.0</td>\n",
       "    </tr>\n",
       "    <tr>\n",
       "      <th>46</th>\n",
       "      <td>46</td>\n",
       "      <td>62</td>\n",
       "      <td>porsche</td>\n",
       "      <td>convertible</td>\n",
       "      <td>89.5</td>\n",
       "      <td>168.9</td>\n",
       "      <td>ohcf</td>\n",
       "      <td>six</td>\n",
       "      <td>207</td>\n",
       "      <td>17</td>\n",
       "      <td>37028.0</td>\n",
       "    </tr>\n",
       "    <tr>\n",
       "      <th>12</th>\n",
       "      <td>12</td>\n",
       "      <td>15</td>\n",
       "      <td>bmw</td>\n",
       "      <td>sedan</td>\n",
       "      <td>110.0</td>\n",
       "      <td>197.0</td>\n",
       "      <td>ohc</td>\n",
       "      <td>six</td>\n",
       "      <td>182</td>\n",
       "      <td>15</td>\n",
       "      <td>36880.0</td>\n",
       "    </tr>\n",
       "  </tbody>\n",
       "</table>\n",
       "</div>"
      ],
      "text/plain": [
       "    Unnamed: 0  index        company   body-style  wheel-base  length  \\\n",
       "35          35     47  mercedes-benz      hardtop       112.0   199.2   \n",
       "11          11     14            bmw        sedan       103.5   193.8   \n",
       "34          34     46  mercedes-benz        sedan       120.9   208.1   \n",
       "46          46     62        porsche  convertible        89.5   168.9   \n",
       "12          12     15            bmw        sedan       110.0   197.0   \n",
       "\n",
       "   engine-type num-of-cylinders  horsepower  average-mileage    price  \n",
       "35        ohcv            eight         184               14  45400.0  \n",
       "11         ohc              six         182               16  41315.0  \n",
       "34        ohcv            eight         184               14  40960.0  \n",
       "46        ohcf              six         207               17  37028.0  \n",
       "12         ohc              six         182               15  36880.0  "
      ]
     },
     "execution_count": 18,
     "metadata": {},
     "output_type": "execute_result"
    }
   ],
   "source": [
    "carsDf = pd.read_csv(\"Automobile_data.csv\")\n",
    "carsDf = carsDf.sort_values(by=['price', 'horsepower'], ascending=False)\n",
    "carsDf.head(5)"
   ]
  },
  {
   "cell_type": "markdown",
   "id": "dfcf8199",
   "metadata": {},
   "source": [
    "### Exercise 9: Concatenate two data frames using the following conditions"
   ]
  },
  {
   "cell_type": "code",
   "execution_count": 22,
   "id": "2d9deb63",
   "metadata": {},
   "outputs": [
    {
     "data": {
      "text/html": [
       "<div>\n",
       "<style scoped>\n",
       "    .dataframe tbody tr th:only-of-type {\n",
       "        vertical-align: middle;\n",
       "    }\n",
       "\n",
       "    .dataframe tbody tr th {\n",
       "        vertical-align: top;\n",
       "    }\n",
       "\n",
       "    .dataframe thead th {\n",
       "        text-align: right;\n",
       "    }\n",
       "</style>\n",
       "<table border=\"1\" class=\"dataframe\">\n",
       "  <thead>\n",
       "    <tr style=\"text-align: right;\">\n",
       "      <th></th>\n",
       "      <th></th>\n",
       "      <th>Company</th>\n",
       "      <th>Price</th>\n",
       "    </tr>\n",
       "  </thead>\n",
       "  <tbody>\n",
       "    <tr>\n",
       "      <th rowspan=\"4\" valign=\"top\">Germany</th>\n",
       "      <th>0</th>\n",
       "      <td>Ford</td>\n",
       "      <td>23845</td>\n",
       "    </tr>\n",
       "    <tr>\n",
       "      <th>1</th>\n",
       "      <td>Mercedes</td>\n",
       "      <td>171995</td>\n",
       "    </tr>\n",
       "    <tr>\n",
       "      <th>2</th>\n",
       "      <td>BMV</td>\n",
       "      <td>135925</td>\n",
       "    </tr>\n",
       "    <tr>\n",
       "      <th>3</th>\n",
       "      <td>Audi</td>\n",
       "      <td>71400</td>\n",
       "    </tr>\n",
       "    <tr>\n",
       "      <th rowspan=\"4\" valign=\"top\">Japan</th>\n",
       "      <th>0</th>\n",
       "      <td>Toyota</td>\n",
       "      <td>29995</td>\n",
       "    </tr>\n",
       "    <tr>\n",
       "      <th>1</th>\n",
       "      <td>Honda</td>\n",
       "      <td>23600</td>\n",
       "    </tr>\n",
       "    <tr>\n",
       "      <th>2</th>\n",
       "      <td>Nissan</td>\n",
       "      <td>61500</td>\n",
       "    </tr>\n",
       "    <tr>\n",
       "      <th>3</th>\n",
       "      <td>Mitsubishi</td>\n",
       "      <td>58900</td>\n",
       "    </tr>\n",
       "  </tbody>\n",
       "</table>\n",
       "</div>"
      ],
      "text/plain": [
       "               Company   Price\n",
       "Germany 0         Ford   23845\n",
       "        1     Mercedes  171995\n",
       "        2          BMV  135925\n",
       "        3         Audi   71400\n",
       "Japan   0       Toyota   29995\n",
       "        1        Honda   23600\n",
       "        2       Nissan   61500\n",
       "        3  Mitsubishi    58900"
      ]
     },
     "execution_count": 22,
     "metadata": {},
     "output_type": "execute_result"
    }
   ],
   "source": [
    "GermanCars = {'Company': ['Ford', 'Mercedes', 'BMV', 'Audi'], 'Price': [23845, 171995, 135925 , 71400]}\n",
    "carsDf1 = pd.DataFrame.from_dict(GermanCars)\n",
    "\n",
    "japaneseCars = {'Company': ['Toyota', 'Honda', 'Nissan', 'Mitsubishi '], 'Price': [29995, 23600, 61500 , 58900]}\n",
    "carsDf2 = pd.DataFrame.from_dict(japaneseCars)\n",
    "\n",
    "carsDf = pd.concat([carsDf1, carsDf2], keys=[\"Germany\", \"Japan\"])\n",
    "carsDf\n"
   ]
  },
  {
   "cell_type": "markdown",
   "id": "23ebfdbe",
   "metadata": {},
   "source": [
    "#### Exercise 10: Merge two data frames using the following condition\n",
    "Create two data frames using the following two Dicts, Merge two data frames, and append the second data frame as a new column to the first data frame.\n",
    "Car_Price = {'Company': ['Toyota', 'Honda', 'BMV', 'Audi'], 'Price': [23845, 17995, 135925 , 71400]}\n",
    "car_Horsepower = {'Company': ['Toyota', 'Honda', 'BMV', 'Audi'], 'horsepower': [141, 80, 182 , 160]}"
   ]
  },
  {
   "cell_type": "code",
   "execution_count": 23,
   "id": "8c3c3dd3",
   "metadata": {},
   "outputs": [
    {
     "data": {
      "text/html": [
       "<div>\n",
       "<style scoped>\n",
       "    .dataframe tbody tr th:only-of-type {\n",
       "        vertical-align: middle;\n",
       "    }\n",
       "\n",
       "    .dataframe tbody tr th {\n",
       "        vertical-align: top;\n",
       "    }\n",
       "\n",
       "    .dataframe thead th {\n",
       "        text-align: right;\n",
       "    }\n",
       "</style>\n",
       "<table border=\"1\" class=\"dataframe\">\n",
       "  <thead>\n",
       "    <tr style=\"text-align: right;\">\n",
       "      <th></th>\n",
       "      <th>Company</th>\n",
       "      <th>Price</th>\n",
       "      <th>horsepower</th>\n",
       "    </tr>\n",
       "  </thead>\n",
       "  <tbody>\n",
       "    <tr>\n",
       "      <th>0</th>\n",
       "      <td>Toyota</td>\n",
       "      <td>23845</td>\n",
       "      <td>141</td>\n",
       "    </tr>\n",
       "    <tr>\n",
       "      <th>1</th>\n",
       "      <td>Honda</td>\n",
       "      <td>17995</td>\n",
       "      <td>80</td>\n",
       "    </tr>\n",
       "    <tr>\n",
       "      <th>2</th>\n",
       "      <td>BMV</td>\n",
       "      <td>135925</td>\n",
       "      <td>182</td>\n",
       "    </tr>\n",
       "    <tr>\n",
       "      <th>3</th>\n",
       "      <td>Audi</td>\n",
       "      <td>71400</td>\n",
       "      <td>160</td>\n",
       "    </tr>\n",
       "  </tbody>\n",
       "</table>\n",
       "</div>"
      ],
      "text/plain": [
       "  Company   Price  horsepower\n",
       "0  Toyota   23845         141\n",
       "1   Honda   17995          80\n",
       "2     BMV  135925         182\n",
       "3    Audi   71400         160"
      ]
     },
     "execution_count": 23,
     "metadata": {},
     "output_type": "execute_result"
    }
   ],
   "source": [
    "Car_Price = {'Company': ['Toyota', 'Honda', 'BMV', 'Audi'], 'Price': [23845, 17995, 135925 , 71400]}\n",
    "carPriceDf = pd.DataFrame.from_dict(Car_Price)\n",
    "\n",
    "car_Horsepower = {'Company': ['Toyota', 'Honda', 'BMV', 'Audi'], 'horsepower': [141, 80, 182 , 160]}\n",
    "carsHorsepowerDf = pd.DataFrame.from_dict(car_Horsepower)\n",
    "\n",
    "carsDf = pd.merge(carPriceDf, carsHorsepowerDf, on=\"Company\")\n",
    "carsDf\n"
   ]
  }
 ],
 "metadata": {
  "kernelspec": {
   "display_name": "Python 3 (ipykernel)",
   "language": "python",
   "name": "python3"
  },
  "language_info": {
   "codemirror_mode": {
    "name": "ipython",
    "version": 3
   },
   "file_extension": ".py",
   "mimetype": "text/x-python",
   "name": "python",
   "nbconvert_exporter": "python",
   "pygments_lexer": "ipython3",
   "version": "3.11.0"
  }
 },
 "nbformat": 4,
 "nbformat_minor": 5
}
